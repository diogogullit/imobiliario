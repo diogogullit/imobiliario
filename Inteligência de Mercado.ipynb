{
 "cells": [
  {
   "cell_type": "markdown",
   "id": "3696b958",
   "metadata": {},
   "source": [
    "# Inteligência de Mercado"
   ]
  },
  {
   "cell_type": "markdown",
   "id": "8f721f73",
   "metadata": {},
   "source": [
    "## O que é inteligência de mercado?"
   ]
  },
  {
   "cell_type": "markdown",
   "id": "76ee2bc3",
   "metadata": {},
   "source": [
    "Inteligência de mercado é o processo sistemático de coleta, análise e interpretação de dados relevantes ao ambiente de negócios, com o objetivo de embasar decisões estratégicas. Mais do que simplesmente observar o mercado, trata-se da formalização da intuição — ou seja, transformar percepções subjetivas e experiências empíricas em um método estruturado e rigoroso. Ao substituir o improviso e o achismo por análises consistentes, a inteligência de mercado permite que as decisões sejam tomadas com base em evidências concretas, reduzindo riscos e aumentando a assertividade."
   ]
  },
  {
   "cell_type": "markdown",
   "id": "6e964aa8",
   "metadata": {},
   "source": [
    "Este projeto apresenta os primeiros passos de um protótipo de sistema de inteligência de mercado, com foco nas perguntas estratégicas e nas fontes de informação. Trata-se de um sistema dinâmico, que evolui com o tempo, à medida que a equipe e a empresa ganham experiência e ajustam o processo com base no uso e no feedback interno."
   ]
  },
  {
   "cell_type": "markdown",
   "id": "b2b059c9",
   "metadata": {},
   "source": [
    "## Dados Populacionais\n",
    "### Qual é a dinâmica populacional de Aracaju?"
   ]
  },
  {
   "cell_type": "markdown",
   "id": "36c50147",
   "metadata": {},
   "source": [
    "A tabela abaixo mostra as populações do Brasil, Nordeste, Sergipe e Aracaju nos anos de 2000, 2010 e 2022."
   ]
  },
  {
   "cell_type": "code",
   "execution_count": 106,
   "id": "66c16782",
   "metadata": {},
   "outputs": [
    {
     "data": {
      "text/html": [
       "<div>\n",
       "<style scoped>\n",
       "    .dataframe tbody tr th:only-of-type {\n",
       "        vertical-align: middle;\n",
       "    }\n",
       "\n",
       "    .dataframe tbody tr th {\n",
       "        vertical-align: top;\n",
       "    }\n",
       "\n",
       "    .dataframe thead th {\n",
       "        text-align: right;\n",
       "    }\n",
       "</style>\n",
       "<table border=\"1\" class=\"dataframe\">\n",
       "  <thead>\n",
       "    <tr style=\"text-align: right;\">\n",
       "      <th></th>\n",
       "      <th>Populacao</th>\n",
       "      <th>2000</th>\n",
       "      <th>2010</th>\n",
       "      <th>2022</th>\n",
       "    </tr>\n",
       "  </thead>\n",
       "  <tbody>\n",
       "    <tr>\n",
       "      <th>0</th>\n",
       "      <td>Brasil</td>\n",
       "      <td>169590693</td>\n",
       "      <td>190732694</td>\n",
       "      <td>203080756</td>\n",
       "    </tr>\n",
       "    <tr>\n",
       "      <th>1</th>\n",
       "      <td>Nordeste</td>\n",
       "      <td>47693253</td>\n",
       "      <td>53081950</td>\n",
       "      <td>54658515</td>\n",
       "    </tr>\n",
       "    <tr>\n",
       "      <th>2</th>\n",
       "      <td>Sergipe</td>\n",
       "      <td>1781714</td>\n",
       "      <td>2068017</td>\n",
       "      <td>2210004</td>\n",
       "    </tr>\n",
       "    <tr>\n",
       "      <th>3</th>\n",
       "      <td>Aracaju</td>\n",
       "      <td>460898</td>\n",
       "      <td>571149</td>\n",
       "      <td>602757</td>\n",
       "    </tr>\n",
       "  </tbody>\n",
       "</table>\n",
       "</div>"
      ],
      "text/plain": [
       "  Populacao       2000       2010       2022\n",
       "0    Brasil  169590693  190732694  203080756\n",
       "1  Nordeste   47693253   53081950   54658515\n",
       "2   Sergipe    1781714    2068017    2210004\n",
       "3   Aracaju     460898     571149     602757"
      ]
     },
     "execution_count": 106,
     "metadata": {},
     "output_type": "execute_result"
    }
   ],
   "source": [
    "import pandas as pd\n",
    "dfPop = pd.DataFrame(\n",
    "    {\n",
    "        \"Populacao\": [\"Brasil\", \"Nordeste\", \"Sergipe\", \"Aracaju\"],\n",
    "        \"2000\": [169590693, 47693253, 1781714, 460898],\n",
    "        \"2010\": [190732694, 53081950, 2068017, 571149],\n",
    "        \"2022\": [203080756, 54658515, 2210004, 602757],\n",
    "    }\n",
    ")\n",
    "dfPop"
   ]
  },
  {
   "cell_type": "markdown",
   "id": "9ecbd5e9",
   "metadata": {},
   "source": [
    "Vamos incluir na tabela a variação em cada período, para cada região:"
   ]
  },
  {
   "cell_type": "code",
   "execution_count": 107,
   "id": "94e4d8df",
   "metadata": {},
   "outputs": [
    {
     "data": {
      "text/html": [
       "<div>\n",
       "<style scoped>\n",
       "    .dataframe tbody tr th:only-of-type {\n",
       "        vertical-align: middle;\n",
       "    }\n",
       "\n",
       "    .dataframe tbody tr th {\n",
       "        vertical-align: top;\n",
       "    }\n",
       "\n",
       "    .dataframe thead th {\n",
       "        text-align: right;\n",
       "    }\n",
       "</style>\n",
       "<table border=\"1\" class=\"dataframe\">\n",
       "  <thead>\n",
       "    <tr style=\"text-align: right;\">\n",
       "      <th></th>\n",
       "      <th>Populacao</th>\n",
       "      <th>2000</th>\n",
       "      <th>2010</th>\n",
       "      <th>2022</th>\n",
       "      <th>variação 2000 para 2010</th>\n",
       "      <th>variação 2010 para 2022</th>\n",
       "    </tr>\n",
       "  </thead>\n",
       "  <tbody>\n",
       "    <tr>\n",
       "      <th>0</th>\n",
       "      <td>Brasil</td>\n",
       "      <td>169590693</td>\n",
       "      <td>190732694</td>\n",
       "      <td>203080756</td>\n",
       "      <td>12.466487</td>\n",
       "      <td>6.474014</td>\n",
       "    </tr>\n",
       "    <tr>\n",
       "      <th>1</th>\n",
       "      <td>Nordeste</td>\n",
       "      <td>47693253</td>\n",
       "      <td>53081950</td>\n",
       "      <td>54658515</td>\n",
       "      <td>11.298657</td>\n",
       "      <td>2.970059</td>\n",
       "    </tr>\n",
       "    <tr>\n",
       "      <th>2</th>\n",
       "      <td>Sergipe</td>\n",
       "      <td>1781714</td>\n",
       "      <td>2068017</td>\n",
       "      <td>2210004</td>\n",
       "      <td>16.068965</td>\n",
       "      <td>6.865853</td>\n",
       "    </tr>\n",
       "    <tr>\n",
       "      <th>3</th>\n",
       "      <td>Aracaju</td>\n",
       "      <td>460898</td>\n",
       "      <td>571149</td>\n",
       "      <td>602757</td>\n",
       "      <td>23.920911</td>\n",
       "      <td>5.534108</td>\n",
       "    </tr>\n",
       "  </tbody>\n",
       "</table>\n",
       "</div>"
      ],
      "text/plain": [
       "  Populacao       2000       2010       2022  variação 2000 para 2010  \\\n",
       "0    Brasil  169590693  190732694  203080756                12.466487   \n",
       "1  Nordeste   47693253   53081950   54658515                11.298657   \n",
       "2   Sergipe    1781714    2068017    2210004                16.068965   \n",
       "3   Aracaju     460898     571149     602757                23.920911   \n",
       "\n",
       "   variação 2010 para 2022  \n",
       "0                 6.474014  \n",
       "1                 2.970059  \n",
       "2                 6.865853  \n",
       "3                 5.534108  "
      ]
     },
     "execution_count": 107,
     "metadata": {},
     "output_type": "execute_result"
    }
   ],
   "source": [
    "dfPop[\"variação 2000 para 2010\"] = (dfPop[\"2010\"] / dfPop[\"2000\"] - 1) * 100\n",
    "dfPop[\"variação 2010 para 2022\"] = (dfPop[\"2022\"] / dfPop[\"2010\"] - 1) * 100\n",
    "dfPop"
   ]
  },
  {
   "cell_type": "markdown",
   "id": "8fcc5324",
   "metadata": {},
   "source": [
    "Observe que Aracaju foi a região destacada que teve o maior crescimento populacional (24%) na década de 2000 para 2010, e teve também um crescimento destacado (5.5%) no último período, acima do crescimento da região Nordeste."
   ]
  },
  {
   "cell_type": "markdown",
   "id": "dcbf95be",
   "metadata": {},
   "source": [
    "Mas só esses números não bastam para entender a dinâmica populacional de Aracaju. Nós precisamos transformá-los em informação."
   ]
  },
  {
   "cell_type": "markdown",
   "id": "a353b7c5",
   "metadata": {},
   "source": [
    "###### Qual a origem dos novos moradores de Aracaju? Quantos vêm de outros estados? Quantos se mudam para trabalhar ou estudar?\n",
    "\n",
    "###### Quais bairros de Aracaju mais cresceram em população nos últimos anos?\n",
    "\n",
    "###### Como os aracajuanos percebem os diferentes bairros? Quais são vistos como bons para se viver?\n",
    "\n",
    "###### Como tem evoluído a população nas cidades da região metropolitana de Aracaju?"
   ]
  },
  {
   "cell_type": "markdown",
   "id": "361d1b26",
   "metadata": {},
   "source": [
    "Essas são perguntas relevantes para o setor imobiliário, e hoje já é possível respondê-las com o apoio de diferentes fontes — desde pesquisas tradicionais e dados governamentais até informações disponíveis na web."
   ]
  },
  {
   "cell_type": "markdown",
   "id": "b121e3cb",
   "metadata": {},
   "source": [
    "## Dados da Economia de Aracaju"
   ]
  },
  {
   "cell_type": "markdown",
   "id": "49f4db72",
   "metadata": {},
   "source": [
    "Sergipe fechou o mês de abril de 2025 com um saldo de 2849 novas vagas de empregos formais. Em Aracaju, foram registradas 7.532 admissões e 5.893 demissões, resultando em um saldo positivo de 1.639 novos vínculos formais, o que corresponde a aproximadamente 57% do saldo positivo de Sergipe. As vagas geradas em Aracaju representam um aumento de aproximadamente 60% em relação ao mesmo período de 2024. Os três setores que mais geraram emprego foram o setor de Serviços (868), Construção Civil (368) e Comércio (247)."
   ]
  },
  {
   "cell_type": "markdown",
   "id": "9e613bcd",
   "metadata": {},
   "source": [
    "##### Em que etapa do ciclo econômico encontra-se o mercado imobiliário em Aracaju?"
   ]
  },
  {
   "cell_type": "markdown",
   "id": "3f66db0b",
   "metadata": {},
   "source": [
    " O que os números acima nos dizem sobre a economia local de Aracaju? Esses números nos ajudam a identificar em qual ponto do ciclo econômico a economia de Aracaju encontra-se? Quais os hábitos de consumo das pessoas nessa etapa do ciclo econômico?\n",
    " Quantas empresas abriram e quantas fecharam em Aracaju no mesmo período em cada setor da economia?"
   ]
  },
  {
   "cell_type": "markdown",
   "id": "b8fed8d1",
   "metadata": {},
   "source": [
    "##### Esse movimento indica um aquecimento na economia?"
   ]
  },
  {
   "cell_type": "markdown",
   "id": "8095ccd6",
   "metadata": {},
   "source": [
    "E sobre as pessoas que não conseguem comprovar renda formal, qual fatia do mercado elas representam? Essas pessoas tem acesso ao crédito bancário?"
   ]
  },
  {
   "cell_type": "markdown",
   "id": "3063830c",
   "metadata": {},
   "source": [
    "##### Existe algum programa para tentar trazer essas pessoas para dentro do sistema bancário e conseguir ter aceso ao crédito imobiliário?"
   ]
  },
  {
   "cell_type": "markdown",
   "id": "34ec73e1",
   "metadata": {},
   "source": [
    "Mais uma vez, essas são questões fundamentais para todo o mercado imobiliário. Neste estágio, nosso sistema de inteligência de mercado pode se apoiar em dados de diferentes áreas da empresa, como os setores econômico, comercial e de mercado, entre outros."
   ]
  },
  {
   "cell_type": "markdown",
   "id": "f8cab915",
   "metadata": {},
   "source": [
    "## CENSO 2022 IBGE"
   ]
  },
  {
   "cell_type": "markdown",
   "id": "a98231ca",
   "metadata": {},
   "source": [
    " Em 2022 o IBGE realizou o censo mais detalhado da história do Brasil. Infelizmente esses dados ainda não estão todos disponíveis.\n",
    " Para exemplificar as nossas análises, nós usaremos dados do último censo divulgado pelo IBGE, o censo de 2010.\n",
    " É importante lembrar que o salário mínimo à época era 510 reais.\n",
    " Nós não consideraremos todos os dados disponíveis no IBGE, apenas algumas classes de dados que nos permitem\n",
    " desenvolver uma análise preliminar."
   ]
  },
  {
   "cell_type": "markdown",
   "id": "aae25a05",
   "metadata": {},
   "source": [
    "## Qual a distribuição de imóveis entre casas e apartamentos em Aracaju?"
   ]
  },
  {
   "cell_type": "markdown",
   "id": "84e54e4d",
   "metadata": {},
   "source": [
    "##### E qual a situação de cada imóvel com relação ao financiamento bancário?"
   ]
  },
  {
   "cell_type": "code",
   "execution_count": 110,
   "id": "0baea6ff",
   "metadata": {},
   "outputs": [
    {
     "data": {
      "text/html": [
       "<div>\n",
       "<style scoped>\n",
       "    .dataframe tbody tr th:only-of-type {\n",
       "        vertical-align: middle;\n",
       "    }\n",
       "\n",
       "    .dataframe tbody tr th {\n",
       "        vertical-align: top;\n",
       "    }\n",
       "\n",
       "    .dataframe thead th {\n",
       "        text-align: right;\n",
       "    }\n",
       "</style>\n",
       "<table border=\"1\" class=\"dataframe\">\n",
       "  <thead>\n",
       "    <tr style=\"text-align: right;\">\n",
       "      <th></th>\n",
       "      <th>Domicilios</th>\n",
       "      <th>Total</th>\n",
       "      <th>Proprio</th>\n",
       "      <th>Quitado</th>\n",
       "      <th>Nao-Quitado</th>\n",
       "      <th>Alugado</th>\n",
       "    </tr>\n",
       "  </thead>\n",
       "  <tbody>\n",
       "    <tr>\n",
       "      <th>0</th>\n",
       "      <td>Casa</td>\n",
       "      <td>119280</td>\n",
       "      <td>87827</td>\n",
       "      <td>83167</td>\n",
       "      <td>4659</td>\n",
       "      <td>24889</td>\n",
       "    </tr>\n",
       "    <tr>\n",
       "      <th>1</th>\n",
       "      <td>Apartamento</td>\n",
       "      <td>37902</td>\n",
       "      <td>26812</td>\n",
       "      <td>17204</td>\n",
       "      <td>9608</td>\n",
       "      <td>9786</td>\n",
       "    </tr>\n",
       "  </tbody>\n",
       "</table>\n",
       "</div>"
      ],
      "text/plain": [
       "    Domicilios   Total  Proprio  Quitado  Nao-Quitado  Alugado\n",
       "0         Casa  119280    87827    83167         4659    24889\n",
       "1  Apartamento   37902    26812    17204         9608     9786"
      ]
     },
     "execution_count": 110,
     "metadata": {},
     "output_type": "execute_result"
    }
   ],
   "source": [
    "dfDomisAju = pd.DataFrame(\n",
    "    {\n",
    "        \"Domicilios\": [\"Casa\", \"Apartamento\"],\n",
    "        \"Total\": [119280, 37902],\n",
    "        \"Proprio\": [87827, 26812],\n",
    "        \"Quitado\": [83167, 17204],\n",
    "        \"Nao-Quitado\": [4659, 9608],\n",
    "        \"Alugado\": [24889, 9786],\n",
    "    }\n",
    ")\n",
    "dfDomisAju"
   ]
  },
  {
   "cell_type": "markdown",
   "id": "0cf40b50",
   "metadata": {},
   "source": [
    "Da tabela acima temos que"
   ]
  },
  {
   "cell_type": "code",
   "execution_count": 109,
   "id": "6563562a",
   "metadata": {},
   "outputs": [
    {
     "data": {
      "text/plain": [
       "(157182, 100371, 34675)"
      ]
     },
     "execution_count": 109,
     "metadata": {},
     "output_type": "execute_result"
    }
   ],
   "source": [
    "dfDomisAju['Total'].sum(), dfDomisAju['Quitado'].sum(), dfDomisAju['Alugado'].sum()"
   ]
  },
  {
   "cell_type": "markdown",
   "id": "170aa11b",
   "metadata": {},
   "source": [
    "de um total de 157182 imóveis analisados, 100371 estão quitados e 34675 são alugados."
   ]
  },
  {
   "cell_type": "markdown",
   "id": "df3ac5bc",
   "metadata": {},
   "source": [
    "Partindo de um cenário onde a análise economica é como discutida na seção anterior, podemos nos perguntar:"
   ]
  },
  {
   "cell_type": "markdown",
   "id": "be6cb124",
   "metadata": {},
   "source": [
    "##### Quem está indo ao mercado em busca de imóveis, está interessado em um imóvel para morar ou para investir?"
   ]
  },
  {
   "cell_type": "markdown",
   "id": "7afc096a",
   "metadata": {},
   "source": [
    "É claro que sempre há os dois grupos no mercado, porém ao identificá-los nós obtemos uma vantagem competitiva muito grande. Por exemplo, nós podemos fazer a campanha de marketing certa para cada grupo de cliente."
   ]
  },
  {
   "cell_type": "markdown",
   "id": "53a9c3f7",
   "metadata": {},
   "source": [
    "Para melhor desenhar as nossas estratégias é muito importante entender as características dos imóveis disponíveis no mercado."
   ]
  },
  {
   "cell_type": "markdown",
   "id": "60544ed6",
   "metadata": {},
   "source": [
    "## Quantos quartos por apartamento em Aracaju?"
   ]
  },
  {
   "cell_type": "code",
   "execution_count": 111,
   "id": "fd3d30c4",
   "metadata": {},
   "outputs": [
    {
     "data": {
      "text/html": [
       "<div>\n",
       "<style scoped>\n",
       "    .dataframe tbody tr th:only-of-type {\n",
       "        vertical-align: middle;\n",
       "    }\n",
       "\n",
       "    .dataframe tbody tr th {\n",
       "        vertical-align: top;\n",
       "    }\n",
       "\n",
       "    .dataframe thead th {\n",
       "        text-align: right;\n",
       "    }\n",
       "</style>\n",
       "<table border=\"1\" class=\"dataframe\">\n",
       "  <thead>\n",
       "    <tr style=\"text-align: right;\">\n",
       "      <th></th>\n",
       "      <th>Apartamento</th>\n",
       "      <th>Quantidade</th>\n",
       "    </tr>\n",
       "  </thead>\n",
       "  <tbody>\n",
       "    <tr>\n",
       "      <th>0</th>\n",
       "      <td>1-Quarto</td>\n",
       "      <td>2387</td>\n",
       "    </tr>\n",
       "    <tr>\n",
       "      <th>1</th>\n",
       "      <td>2-Quartos</td>\n",
       "      <td>3894</td>\n",
       "    </tr>\n",
       "    <tr>\n",
       "      <th>2</th>\n",
       "      <td>3-Quartos</td>\n",
       "      <td>2956</td>\n",
       "    </tr>\n",
       "  </tbody>\n",
       "</table>\n",
       "</div>"
      ],
      "text/plain": [
       "  Apartamento  Quantidade\n",
       "0    1-Quarto        2387\n",
       "1   2-Quartos        3894\n",
       "2   3-Quartos        2956"
      ]
     },
     "execution_count": 111,
     "metadata": {},
     "output_type": "execute_result"
    }
   ],
   "source": [
    "dfAptQuartosAlugadosAju = pd.DataFrame(\n",
    "    {\n",
    "        \"Apartamento\": [\"1-Quarto\", \"2-Quartos\", \"3-Quartos\"],\n",
    "        \"Quantidade\": [2387, 3894, 2956],\n",
    "    }\n",
    ")\n",
    "dfAptQuartosAlugadosAju"
   ]
  },
  {
   "cell_type": "markdown",
   "id": "da4a3c69",
   "metadata": {},
   "source": [
    "A maior parte dos apartamentos em Aracaju tem 2 quartos, seguida por unidades com 3 e 1 quarto. De acordo com o IBGE, a média é de 2,8 moradores por apartamento. Já os imóveis com 4 ou mais quartos eram muito raros na amostra de 2010 e, por isso, foram desconsiderados nesta análise."
   ]
  },
  {
   "cell_type": "markdown",
   "id": "cce066ad",
   "metadata": {},
   "source": [
    "#### Quanto custa alugar apartamento em Aracaju (em 2010)?"
   ]
  },
  {
   "cell_type": "code",
   "execution_count": 112,
   "id": "281a527d",
   "metadata": {},
   "outputs": [
    {
     "data": {
      "text/html": [
       "<div>\n",
       "<style scoped>\n",
       "    .dataframe tbody tr th:only-of-type {\n",
       "        vertical-align: middle;\n",
       "    }\n",
       "\n",
       "    .dataframe tbody tr th {\n",
       "        vertical-align: top;\n",
       "    }\n",
       "\n",
       "    .dataframe thead th {\n",
       "        text-align: right;\n",
       "    }\n",
       "</style>\n",
       "<table border=\"1\" class=\"dataframe\">\n",
       "  <thead>\n",
       "    <tr style=\"text-align: right;\">\n",
       "      <th></th>\n",
       "      <th>Aluguel</th>\n",
       "      <th>1-Quarto</th>\n",
       "      <th>2-Quartos</th>\n",
       "      <th>3-Quartos</th>\n",
       "    </tr>\n",
       "  </thead>\n",
       "  <tbody>\n",
       "    <tr>\n",
       "      <th>0</th>\n",
       "      <td>1/2 a 1 Salário Mínimo</td>\n",
       "      <td>1607</td>\n",
       "      <td>2724</td>\n",
       "      <td>1742</td>\n",
       "    </tr>\n",
       "    <tr>\n",
       "      <th>1</th>\n",
       "      <td>1 a 2 Salário Mínimo</td>\n",
       "      <td>657</td>\n",
       "      <td>933</td>\n",
       "      <td>1038</td>\n",
       "    </tr>\n",
       "    <tr>\n",
       "      <th>2</th>\n",
       "      <td>2 a 3 Salário Mínimo</td>\n",
       "      <td>22</td>\n",
       "      <td>29</td>\n",
       "      <td>67</td>\n",
       "    </tr>\n",
       "  </tbody>\n",
       "</table>\n",
       "</div>"
      ],
      "text/plain": [
       "                  Aluguel  1-Quarto  2-Quartos  3-Quartos\n",
       "0  1/2 a 1 Salário Mínimo      1607       2724       1742\n",
       "1    1 a 2 Salário Mínimo       657        933       1038\n",
       "2    2 a 3 Salário Mínimo        22         29         67"
      ]
     },
     "execution_count": 112,
     "metadata": {},
     "output_type": "execute_result"
    }
   ],
   "source": [
    "dfAptQuartosAlugadosFaixaAju = pd.DataFrame(\n",
    "    {\n",
    "        \"Aluguel\": [\n",
    "            \"1/2 a 1 Salário Mínimo\",\n",
    "            \"1 a 2 Salário Mínimo\",\n",
    "            \"2 a 3 Salário Mínimo\",\n",
    "        ],\n",
    "        \"1-Quarto\": [1607, 657, 22],\n",
    "        \"2-Quartos\": [2724, 933, 29],\n",
    "        \"3-Quartos\": [1742, 1038, 67],\n",
    "    }\n",
    ")\n",
    "dfAptQuartosAlugadosFaixaAju"
   ]
  },
  {
   "cell_type": "markdown",
   "id": "fd5497f1",
   "metadata": {},
   "source": [
    "Compreender os valores de aluguel em Aracaju é essencial. Apesar do desejo comum pela casa própria, acompanhar a dinâmica dos aluguéis ajuda a orientar melhor nossas estratégias de venda e marketing. Campanhas como “Saia do aluguel!” ou “Compre para investir!” podem ser eficazes, dependendo do cenário atual do mercado."
   ]
  },
  {
   "cell_type": "markdown",
   "id": "474293d7",
   "metadata": {},
   "source": [
    "A seguir vamos continuar com uma análise local focada no bairro Luzia, um dos bairros mais tradicionais capital Sergipana."
   ]
  },
  {
   "cell_type": "markdown",
   "id": "7b221bfa",
   "metadata": {},
   "source": [
    "## População do bairro Luzia"
   ]
  },
  {
   "cell_type": "code",
   "execution_count": 113,
   "id": "8082fca3",
   "metadata": {},
   "outputs": [
    {
     "data": {
      "text/html": [
       "<div>\n",
       "<style scoped>\n",
       "    .dataframe tbody tr th:only-of-type {\n",
       "        vertical-align: middle;\n",
       "    }\n",
       "\n",
       "    .dataframe tbody tr th {\n",
       "        vertical-align: top;\n",
       "    }\n",
       "\n",
       "    .dataframe thead th {\n",
       "        text-align: right;\n",
       "    }\n",
       "</style>\n",
       "<table border=\"1\" class=\"dataframe\">\n",
       "  <thead>\n",
       "    <tr style=\"text-align: right;\">\n",
       "      <th></th>\n",
       "      <th>Moradia</th>\n",
       "      <th>População</th>\n",
       "    </tr>\n",
       "  </thead>\n",
       "  <tbody>\n",
       "    <tr>\n",
       "      <th>0</th>\n",
       "      <td>Casa</td>\n",
       "      <td>8819</td>\n",
       "    </tr>\n",
       "    <tr>\n",
       "      <th>1</th>\n",
       "      <td>Apartamento</td>\n",
       "      <td>11293</td>\n",
       "    </tr>\n",
       "    <tr>\n",
       "      <th>2</th>\n",
       "      <td>Total</td>\n",
       "      <td>20430</td>\n",
       "    </tr>\n",
       "  </tbody>\n",
       "</table>\n",
       "</div>"
      ],
      "text/plain": [
       "       Moradia  População\n",
       "0         Casa       8819\n",
       "1  Apartamento      11293\n",
       "2        Total      20430"
      ]
     },
     "execution_count": 113,
     "metadata": {},
     "output_type": "execute_result"
    }
   ],
   "source": [
    "dfPopLuzia = pd.DataFrame(\n",
    "    {\n",
    "        \"Moradia\": [\"Casa\", \"Apartamento\", \"Total\"],\n",
    "        \"População\": [8819, 11293, 20430],\n",
    "    }\n",
    ")\n",
    "dfPopLuzia"
   ]
  },
  {
   "cell_type": "markdown",
   "id": "3662c4fe",
   "metadata": {},
   "source": [
    "A maior parte da população do bairro Luzia vive em apartamentos (IBGE 2010)."
   ]
  },
  {
   "cell_type": "markdown",
   "id": "6cacce49",
   "metadata": {},
   "source": [
    "### O mercado imobiliário está saturado no bairro Luzia?"
   ]
  },
  {
   "cell_type": "markdown",
   "id": "179d688f",
   "metadata": {},
   "source": [
    "O bairro Luzia é uma das áreas mais bem localizadas de Aracaju, o que também contribui para sua alta densidade populacional. Afirmar que o bairro está saturado para grandes empreendimentos residenciais não significa que não existam oportunidades de negócios na região. Pelo contrário — com o crescimento populacional, o comércio local tende a crescer junto. Uma das funções da inteligência de mercado é justamente fazer o “teste vocacional” de um terreno: talvez não haja mais espaço para grandes projetos habitacionais, mas pode haver demanda por empreendimentos comerciais, como salões ou lojas de serviço."
   ]
  },
  {
   "cell_type": "markdown",
   "id": "21af5ec1",
   "metadata": {},
   "source": [
    "## Situação dos imóveis do bairro Luzia"
   ]
  },
  {
   "cell_type": "code",
   "execution_count": 114,
   "id": "c8e5360a",
   "metadata": {},
   "outputs": [
    {
     "data": {
      "text/html": [
       "<div>\n",
       "<style scoped>\n",
       "    .dataframe tbody tr th:only-of-type {\n",
       "        vertical-align: middle;\n",
       "    }\n",
       "\n",
       "    .dataframe tbody tr th {\n",
       "        vertical-align: top;\n",
       "    }\n",
       "\n",
       "    .dataframe thead th {\n",
       "        text-align: right;\n",
       "    }\n",
       "</style>\n",
       "<table border=\"1\" class=\"dataframe\">\n",
       "  <thead>\n",
       "    <tr style=\"text-align: right;\">\n",
       "      <th></th>\n",
       "      <th>Domicilios</th>\n",
       "      <th>Total</th>\n",
       "      <th>Proprio</th>\n",
       "      <th>Quitado</th>\n",
       "      <th>Nao-Quitado</th>\n",
       "      <th>Alugado</th>\n",
       "    </tr>\n",
       "  </thead>\n",
       "  <tbody>\n",
       "    <tr>\n",
       "      <th>0</th>\n",
       "      <td>Casa</td>\n",
       "      <td>2441</td>\n",
       "      <td>1912</td>\n",
       "      <td>1847</td>\n",
       "      <td>65</td>\n",
       "      <td>464</td>\n",
       "    </tr>\n",
       "    <tr>\n",
       "      <th>1</th>\n",
       "      <td>Apartamento</td>\n",
       "      <td>3909</td>\n",
       "      <td>2760</td>\n",
       "      <td>2200</td>\n",
       "      <td>560</td>\n",
       "      <td>1045</td>\n",
       "    </tr>\n",
       "  </tbody>\n",
       "</table>\n",
       "</div>"
      ],
      "text/plain": [
       "    Domicilios  Total  Proprio  Quitado  Nao-Quitado  Alugado\n",
       "0         Casa   2441     1912     1847           65      464\n",
       "1  Apartamento   3909     2760     2200          560     1045"
      ]
     },
     "execution_count": 114,
     "metadata": {},
     "output_type": "execute_result"
    }
   ],
   "source": [
    "dfDomisLuzia = pd.DataFrame(\n",
    "    {\n",
    "        \"Domicilios\": [\"Casa\", \"Apartamento\"],\n",
    "        \"Total\": [2441, 3909],\n",
    "        \"Proprio\": [1912, 2760],\n",
    "        \"Quitado\": [1847, 2200],\n",
    "        \"Nao-Quitado\": [65, 560],\n",
    "        \"Alugado\": [464, 1045],\n",
    "    }\n",
    ")\n",
    "dfDomisLuzia"
   ]
  },
  {
   "cell_type": "markdown",
   "id": "1105a61d",
   "metadata": {},
   "source": [
    "## Renda média nominal no bairro Luzia"
   ]
  },
  {
   "cell_type": "code",
   "execution_count": 115,
   "id": "dabfd072",
   "metadata": {},
   "outputs": [
    {
     "data": {
      "text/html": [
       "<div>\n",
       "<style scoped>\n",
       "    .dataframe tbody tr th:only-of-type {\n",
       "        vertical-align: middle;\n",
       "    }\n",
       "\n",
       "    .dataframe tbody tr th {\n",
       "        vertical-align: top;\n",
       "    }\n",
       "\n",
       "    .dataframe thead th {\n",
       "        text-align: right;\n",
       "    }\n",
       "</style>\n",
       "<table border=\"1\" class=\"dataframe\">\n",
       "  <thead>\n",
       "    <tr style=\"text-align: right;\">\n",
       "      <th></th>\n",
       "      <th>Grupo</th>\n",
       "      <th>Rendimento Médio Nominal</th>\n",
       "    </tr>\n",
       "  </thead>\n",
       "  <tbody>\n",
       "    <tr>\n",
       "      <th>0</th>\n",
       "      <td>Média Geral</td>\n",
       "      <td>2385</td>\n",
       "    </tr>\n",
       "    <tr>\n",
       "      <th>1</th>\n",
       "      <td>20 a 24 anos</td>\n",
       "      <td>915</td>\n",
       "    </tr>\n",
       "    <tr>\n",
       "      <th>2</th>\n",
       "      <td>25 a 29 anos</td>\n",
       "      <td>1633</td>\n",
       "    </tr>\n",
       "    <tr>\n",
       "      <th>3</th>\n",
       "      <td>30 a 34 anos</td>\n",
       "      <td>2159</td>\n",
       "    </tr>\n",
       "    <tr>\n",
       "      <th>4</th>\n",
       "      <td>35 a 39 anos</td>\n",
       "      <td>2388</td>\n",
       "    </tr>\n",
       "    <tr>\n",
       "      <th>5</th>\n",
       "      <td>40 a 44 anos</td>\n",
       "      <td>2714</td>\n",
       "    </tr>\n",
       "    <tr>\n",
       "      <th>6</th>\n",
       "      <td>45 a 49 anos</td>\n",
       "      <td>3063</td>\n",
       "    </tr>\n",
       "    <tr>\n",
       "      <th>7</th>\n",
       "      <td>50 a 54 anos</td>\n",
       "      <td>3294</td>\n",
       "    </tr>\n",
       "    <tr>\n",
       "      <th>8</th>\n",
       "      <td>55 a 59 anos</td>\n",
       "      <td>3565</td>\n",
       "    </tr>\n",
       "  </tbody>\n",
       "</table>\n",
       "</div>"
      ],
      "text/plain": [
       "          Grupo  Rendimento Médio Nominal\n",
       "0   Média Geral                      2385\n",
       "1  20 a 24 anos                       915\n",
       "2  25 a 29 anos                      1633\n",
       "3  30 a 34 anos                      2159\n",
       "4  35 a 39 anos                      2388\n",
       "5  40 a 44 anos                      2714\n",
       "6  45 a 49 anos                      3063\n",
       "7  50 a 54 anos                      3294\n",
       "8  55 a 59 anos                      3565"
      ]
     },
     "execution_count": 115,
     "metadata": {},
     "output_type": "execute_result"
    }
   ],
   "source": [
    "dfRendimentoLuzia = pd.DataFrame(\n",
    "    {\n",
    "        \"Grupo\": [\n",
    "            \"Média Geral\",\n",
    "            \"20 a 24 anos\",\n",
    "            \"25 a 29 anos\",\n",
    "            \"30 a 34 anos\",\n",
    "            \"35 a 39 anos\",\n",
    "            \"40 a 44 anos\",\n",
    "            \"45 a 49 anos\",\n",
    "            \"50 a 54 anos\",\n",
    "            \"55 a 59 anos\",\n",
    "        ],\n",
    "        \"Rendimento Médio Nominal\": [2385,915,1633,2159,2388,2714,3063,3294,3565],\n",
    "    }\n",
    ")\n",
    "dfRendimentoLuzia"
   ]
  },
  {
   "cell_type": "markdown",
   "id": "7ce01376",
   "metadata": {},
   "source": [
    "Observe que quanto maior a idade, maior a renda média. Essa é uma observação interessante mas precisa ser interpretada no devido contexto, que é:"
   ]
  },
  {
   "cell_type": "markdown",
   "id": "ef325db5",
   "metadata": {},
   "source": [
    "##### O que cada grupo destacado acima busca no mercado imobiliário?"
   ]
  },
  {
   "cell_type": "markdown",
   "id": "eaf38e05",
   "metadata": {},
   "source": [
    "##### É razoável supor que as pessoas que compram um segundo imóvel pertence a um grupo de idade mais avançado?"
   ]
  },
  {
   "cell_type": "markdown",
   "id": "16ef28ba",
   "metadata": {},
   "source": [
    "Esse grupo tende a ter uma renda mais alta e maior probabilidade de já ter um imóvel quitado. Por isso, é fundamental buscar dados que validem nossas hipóteses — entender o perfil de cada público é essencial para definir a melhor forma de comunicação."
   ]
  },
  {
   "cell_type": "markdown",
   "id": "46409c0b",
   "metadata": {},
   "source": [
    "## Estoque de imóveis"
   ]
  },
  {
   "cell_type": "markdown",
   "id": "df154bb1",
   "metadata": {},
   "source": [
    "A seguinte amostra de imóveis do bairro Luzia foi extraída de um site de anúncios da internet.\n",
    "Vamos focar aqui em imóveis de 300mil a 500mil, aproximadamente, o que representa, por exemplo, a faixa 4 do programa \"Minha Casa Minha Vida\"."
   ]
  },
  {
   "cell_type": "code",
   "execution_count": 116,
   "id": "216ffa70",
   "metadata": {},
   "outputs": [
    {
     "data": {
      "text/html": [
       "<div>\n",
       "<style scoped>\n",
       "    .dataframe tbody tr th:only-of-type {\n",
       "        vertical-align: middle;\n",
       "    }\n",
       "\n",
       "    .dataframe tbody tr th {\n",
       "        vertical-align: top;\n",
       "    }\n",
       "\n",
       "    .dataframe thead th {\n",
       "        text-align: right;\n",
       "    }\n",
       "</style>\n",
       "<table border=\"1\" class=\"dataframe\">\n",
       "  <thead>\n",
       "    <tr style=\"text-align: right;\">\n",
       "      <th></th>\n",
       "      <th>Apartamento</th>\n",
       "      <th>Novo</th>\n",
       "      <th>Valor de venda</th>\n",
       "      <th>Área em m2</th>\n",
       "      <th>Quartos</th>\n",
       "      <th>Suites</th>\n",
       "      <th>Banheiros</th>\n",
       "      <th>Vagas de garagem</th>\n",
       "      <th>Varanda</th>\n",
       "    </tr>\n",
       "  </thead>\n",
       "  <tbody>\n",
       "    <tr>\n",
       "      <th>0</th>\n",
       "      <td>1</td>\n",
       "      <td>True</td>\n",
       "      <td>420000</td>\n",
       "      <td>63</td>\n",
       "      <td>3</td>\n",
       "      <td>1</td>\n",
       "      <td>1</td>\n",
       "      <td>1</td>\n",
       "      <td>True</td>\n",
       "    </tr>\n",
       "    <tr>\n",
       "      <th>1</th>\n",
       "      <td>2</td>\n",
       "      <td>True</td>\n",
       "      <td>310000</td>\n",
       "      <td>56</td>\n",
       "      <td>3</td>\n",
       "      <td>1</td>\n",
       "      <td>1</td>\n",
       "      <td>1</td>\n",
       "      <td>True</td>\n",
       "    </tr>\n",
       "    <tr>\n",
       "      <th>2</th>\n",
       "      <td>3</td>\n",
       "      <td>True</td>\n",
       "      <td>350000</td>\n",
       "      <td>55</td>\n",
       "      <td>2</td>\n",
       "      <td>1</td>\n",
       "      <td>1</td>\n",
       "      <td>1</td>\n",
       "      <td>True</td>\n",
       "    </tr>\n",
       "    <tr>\n",
       "      <th>3</th>\n",
       "      <td>4</td>\n",
       "      <td>True</td>\n",
       "      <td>387000</td>\n",
       "      <td>60</td>\n",
       "      <td>2</td>\n",
       "      <td>1</td>\n",
       "      <td>1</td>\n",
       "      <td>1</td>\n",
       "      <td>True</td>\n",
       "    </tr>\n",
       "    <tr>\n",
       "      <th>4</th>\n",
       "      <td>5</td>\n",
       "      <td>True</td>\n",
       "      <td>461000</td>\n",
       "      <td>74</td>\n",
       "      <td>3</td>\n",
       "      <td>1</td>\n",
       "      <td>1</td>\n",
       "      <td>1</td>\n",
       "      <td>True</td>\n",
       "    </tr>\n",
       "    <tr>\n",
       "      <th>5</th>\n",
       "      <td>6</td>\n",
       "      <td>False</td>\n",
       "      <td>315000</td>\n",
       "      <td>82</td>\n",
       "      <td>3</td>\n",
       "      <td>1</td>\n",
       "      <td>1</td>\n",
       "      <td>1</td>\n",
       "      <td>True</td>\n",
       "    </tr>\n",
       "    <tr>\n",
       "      <th>6</th>\n",
       "      <td>7</td>\n",
       "      <td>False</td>\n",
       "      <td>370000</td>\n",
       "      <td>86</td>\n",
       "      <td>3</td>\n",
       "      <td>1</td>\n",
       "      <td>1</td>\n",
       "      <td>1</td>\n",
       "      <td>True</td>\n",
       "    </tr>\n",
       "    <tr>\n",
       "      <th>7</th>\n",
       "      <td>8</td>\n",
       "      <td>False</td>\n",
       "      <td>530000</td>\n",
       "      <td>89</td>\n",
       "      <td>3</td>\n",
       "      <td>1</td>\n",
       "      <td>2</td>\n",
       "      <td>1</td>\n",
       "      <td>True</td>\n",
       "    </tr>\n",
       "    <tr>\n",
       "      <th>8</th>\n",
       "      <td>9</td>\n",
       "      <td>False</td>\n",
       "      <td>350000</td>\n",
       "      <td>68</td>\n",
       "      <td>3</td>\n",
       "      <td>1</td>\n",
       "      <td>1</td>\n",
       "      <td>1</td>\n",
       "      <td>True</td>\n",
       "    </tr>\n",
       "    <tr>\n",
       "      <th>9</th>\n",
       "      <td>10</td>\n",
       "      <td>False</td>\n",
       "      <td>360000</td>\n",
       "      <td>98</td>\n",
       "      <td>3</td>\n",
       "      <td>2</td>\n",
       "      <td>2</td>\n",
       "      <td>1</td>\n",
       "      <td>True</td>\n",
       "    </tr>\n",
       "  </tbody>\n",
       "</table>\n",
       "</div>"
      ],
      "text/plain": [
       "   Apartamento   Novo  Valor de venda  Área em m2  Quartos  Suites  Banheiros  \\\n",
       "0            1   True          420000          63        3       1          1   \n",
       "1            2   True          310000          56        3       1          1   \n",
       "2            3   True          350000          55        2       1          1   \n",
       "3            4   True          387000          60        2       1          1   \n",
       "4            5   True          461000          74        3       1          1   \n",
       "5            6  False          315000          82        3       1          1   \n",
       "6            7  False          370000          86        3       1          1   \n",
       "7            8  False          530000          89        3       1          2   \n",
       "8            9  False          350000          68        3       1          1   \n",
       "9           10  False          360000          98        3       2          2   \n",
       "\n",
       "   Vagas de garagem  Varanda  \n",
       "0                 1     True  \n",
       "1                 1     True  \n",
       "2                 1     True  \n",
       "3                 1     True  \n",
       "4                 1     True  \n",
       "5                 1     True  \n",
       "6                 1     True  \n",
       "7                 1     True  \n",
       "8                 1     True  \n",
       "9                 1     True  "
      ]
     },
     "execution_count": 116,
     "metadata": {},
     "output_type": "execute_result"
    }
   ],
   "source": [
    "dfEstoqueLuzia = pd.DataFrame(\n",
    "    {\n",
    "        \"Apartamento\": [1, 2, 3, 4, 5, 6, 7, 8, 9, 10],\n",
    "        \"Novo\": [True, True, True, True, True, False, False, False, False, False],\n",
    "        \"Valor de venda\": [\n",
    "            420000,\n",
    "            310000,\n",
    "            350000,\n",
    "            387000,\n",
    "            461000,\n",
    "            315000,\n",
    "            370000,\n",
    "            530000,\n",
    "            350000,\n",
    "            360000,\n",
    "        ],\n",
    "        \"Área em m2\": [63, 56, 55, 60, 74, 82, 86, 89, 68, 98],\n",
    "        \"Quartos\": [3, 3, 2, 2, 3, 3, 3, 3, 3, 3],\n",
    "        \"Suites\": [1, 1, 1, 1, 1, 1, 1, 1, 1, 2],\n",
    "        \"Banheiros\": [1, 1, 1, 1, 1, 1, 1, 2, 1, 2],\n",
    "        \"Vagas de garagem\": [1, 1, 1, 1, 1, 1, 1, 1, 1, 1],\n",
    "        \"Varanda\": [True, True, True, True, True, True, True, True, True, True],\n",
    "    }\n",
    ")\n",
    "dfEstoqueLuzia"
   ]
  },
  {
   "cell_type": "markdown",
   "id": "de774e63",
   "metadata": {},
   "source": [
    "Vamos incluir na tabela o preço do \"metro quadrado\" de cada imóvel e calcular o preço médio do m2 dos imóveis novos e usados da nossa amostra:"
   ]
  },
  {
   "cell_type": "code",
   "execution_count": 117,
   "id": "2c85005c",
   "metadata": {},
   "outputs": [
    {
     "data": {
      "text/html": [
       "<div>\n",
       "<style scoped>\n",
       "    .dataframe tbody tr th:only-of-type {\n",
       "        vertical-align: middle;\n",
       "    }\n",
       "\n",
       "    .dataframe tbody tr th {\n",
       "        vertical-align: top;\n",
       "    }\n",
       "\n",
       "    .dataframe thead th {\n",
       "        text-align: right;\n",
       "    }\n",
       "</style>\n",
       "<table border=\"1\" class=\"dataframe\">\n",
       "  <thead>\n",
       "    <tr style=\"text-align: right;\">\n",
       "      <th></th>\n",
       "      <th>Apartamento</th>\n",
       "      <th>Novo</th>\n",
       "      <th>Valor de venda</th>\n",
       "      <th>Área em m2</th>\n",
       "      <th>Quartos</th>\n",
       "      <th>Suites</th>\n",
       "      <th>Banheiros</th>\n",
       "      <th>Vagas de garagem</th>\n",
       "      <th>Varanda</th>\n",
       "      <th>Valor do m2</th>\n",
       "    </tr>\n",
       "  </thead>\n",
       "  <tbody>\n",
       "    <tr>\n",
       "      <th>0</th>\n",
       "      <td>1</td>\n",
       "      <td>True</td>\n",
       "      <td>420000</td>\n",
       "      <td>63</td>\n",
       "      <td>3</td>\n",
       "      <td>1</td>\n",
       "      <td>1</td>\n",
       "      <td>1</td>\n",
       "      <td>True</td>\n",
       "      <td>6666</td>\n",
       "    </tr>\n",
       "    <tr>\n",
       "      <th>1</th>\n",
       "      <td>2</td>\n",
       "      <td>True</td>\n",
       "      <td>310000</td>\n",
       "      <td>56</td>\n",
       "      <td>3</td>\n",
       "      <td>1</td>\n",
       "      <td>1</td>\n",
       "      <td>1</td>\n",
       "      <td>True</td>\n",
       "      <td>5535</td>\n",
       "    </tr>\n",
       "    <tr>\n",
       "      <th>2</th>\n",
       "      <td>3</td>\n",
       "      <td>True</td>\n",
       "      <td>350000</td>\n",
       "      <td>55</td>\n",
       "      <td>2</td>\n",
       "      <td>1</td>\n",
       "      <td>1</td>\n",
       "      <td>1</td>\n",
       "      <td>True</td>\n",
       "      <td>6363</td>\n",
       "    </tr>\n",
       "    <tr>\n",
       "      <th>3</th>\n",
       "      <td>4</td>\n",
       "      <td>True</td>\n",
       "      <td>387000</td>\n",
       "      <td>60</td>\n",
       "      <td>2</td>\n",
       "      <td>1</td>\n",
       "      <td>1</td>\n",
       "      <td>1</td>\n",
       "      <td>True</td>\n",
       "      <td>6450</td>\n",
       "    </tr>\n",
       "    <tr>\n",
       "      <th>4</th>\n",
       "      <td>5</td>\n",
       "      <td>True</td>\n",
       "      <td>461000</td>\n",
       "      <td>74</td>\n",
       "      <td>3</td>\n",
       "      <td>1</td>\n",
       "      <td>1</td>\n",
       "      <td>1</td>\n",
       "      <td>True</td>\n",
       "      <td>6229</td>\n",
       "    </tr>\n",
       "    <tr>\n",
       "      <th>5</th>\n",
       "      <td>6</td>\n",
       "      <td>False</td>\n",
       "      <td>315000</td>\n",
       "      <td>82</td>\n",
       "      <td>3</td>\n",
       "      <td>1</td>\n",
       "      <td>1</td>\n",
       "      <td>1</td>\n",
       "      <td>True</td>\n",
       "      <td>3841</td>\n",
       "    </tr>\n",
       "    <tr>\n",
       "      <th>6</th>\n",
       "      <td>7</td>\n",
       "      <td>False</td>\n",
       "      <td>370000</td>\n",
       "      <td>86</td>\n",
       "      <td>3</td>\n",
       "      <td>1</td>\n",
       "      <td>1</td>\n",
       "      <td>1</td>\n",
       "      <td>True</td>\n",
       "      <td>4302</td>\n",
       "    </tr>\n",
       "    <tr>\n",
       "      <th>7</th>\n",
       "      <td>8</td>\n",
       "      <td>False</td>\n",
       "      <td>530000</td>\n",
       "      <td>89</td>\n",
       "      <td>3</td>\n",
       "      <td>1</td>\n",
       "      <td>2</td>\n",
       "      <td>1</td>\n",
       "      <td>True</td>\n",
       "      <td>5955</td>\n",
       "    </tr>\n",
       "    <tr>\n",
       "      <th>8</th>\n",
       "      <td>9</td>\n",
       "      <td>False</td>\n",
       "      <td>350000</td>\n",
       "      <td>68</td>\n",
       "      <td>3</td>\n",
       "      <td>1</td>\n",
       "      <td>1</td>\n",
       "      <td>1</td>\n",
       "      <td>True</td>\n",
       "      <td>5147</td>\n",
       "    </tr>\n",
       "    <tr>\n",
       "      <th>9</th>\n",
       "      <td>10</td>\n",
       "      <td>False</td>\n",
       "      <td>360000</td>\n",
       "      <td>98</td>\n",
       "      <td>3</td>\n",
       "      <td>2</td>\n",
       "      <td>2</td>\n",
       "      <td>1</td>\n",
       "      <td>True</td>\n",
       "      <td>3673</td>\n",
       "    </tr>\n",
       "  </tbody>\n",
       "</table>\n",
       "</div>"
      ],
      "text/plain": [
       "   Apartamento   Novo  Valor de venda  Área em m2  Quartos  Suites  Banheiros  \\\n",
       "0            1   True          420000          63        3       1          1   \n",
       "1            2   True          310000          56        3       1          1   \n",
       "2            3   True          350000          55        2       1          1   \n",
       "3            4   True          387000          60        2       1          1   \n",
       "4            5   True          461000          74        3       1          1   \n",
       "5            6  False          315000          82        3       1          1   \n",
       "6            7  False          370000          86        3       1          1   \n",
       "7            8  False          530000          89        3       1          2   \n",
       "8            9  False          350000          68        3       1          1   \n",
       "9           10  False          360000          98        3       2          2   \n",
       "\n",
       "   Vagas de garagem  Varanda  Valor do m2  \n",
       "0                 1     True         6666  \n",
       "1                 1     True         5535  \n",
       "2                 1     True         6363  \n",
       "3                 1     True         6450  \n",
       "4                 1     True         6229  \n",
       "5                 1     True         3841  \n",
       "6                 1     True         4302  \n",
       "7                 1     True         5955  \n",
       "8                 1     True         5147  \n",
       "9                 1     True         3673  "
      ]
     },
     "execution_count": 117,
     "metadata": {},
     "output_type": "execute_result"
    }
   ],
   "source": [
    "dfEstoqueLuzia['Valor do m2'] = (dfEstoqueLuzia['Valor de venda']/dfEstoqueLuzia['Área em m2']).astype(int)\n",
    "dfEstoqueLuzia"
   ]
  },
  {
   "cell_type": "code",
   "execution_count": 118,
   "id": "836c5242",
   "metadata": {},
   "outputs": [
    {
     "data": {
      "text/plain": [
       "(6248.6, 4583.6)"
      ]
     },
     "execution_count": 118,
     "metadata": {},
     "output_type": "execute_result"
    }
   ],
   "source": [
    "dfEstoqueLuzia[dfEstoqueLuzia['Novo'] == True]['Valor do m2'].mean(), dfEstoqueLuzia[dfEstoqueLuzia['Novo'] == False]['Valor do m2'].mean()"
   ]
  },
  {
   "cell_type": "markdown",
   "id": "98f21473",
   "metadata": {},
   "source": [
    "Portanto, o preço do m2 para imóveis novos na nossa amostra é 6240 reais e para imóveis usados é 4583 reais."
   ]
  },
  {
   "cell_type": "markdown",
   "id": "a5eec978",
   "metadata": {},
   "source": [
    "O que essa diferença de"
   ]
  },
  {
   "cell_type": "code",
   "execution_count": 119,
   "id": "b2a49c05",
   "metadata": {},
   "outputs": [
    {
     "data": {
      "text/plain": [
       "36.329914902902026"
      ]
     },
     "execution_count": 119,
     "metadata": {},
     "output_type": "execute_result"
    }
   ],
   "source": [
    "((6248/4583) - 1)*100"
   ]
  },
  {
   "cell_type": "markdown",
   "id": "e2bcc569",
   "metadata": {},
   "source": [
    "aproximadamente 36,33% no valor do \"m2 novo\" para o \"m2 usado\" representa?\n",
    "O ponto é que sem inteligência de mercado nós não conseguimos responder.\n",
    "Mais precisamente nós precisamos de dados para responder as seguintes perguntas:"
   ]
  },
  {
   "cell_type": "markdown",
   "id": "e54b6d21",
   "metadata": {},
   "source": [
    "##### O quanto uma pessoa está disposta a pagar a mais por um imóvel novo \"equivalente\" a um imóvel usado?"
   ]
  },
  {
   "cell_type": "markdown",
   "id": "e50af211",
   "metadata": {},
   "source": [
    "Em termos mais gerais:"
   ]
  },
  {
   "cell_type": "markdown",
   "id": "cf28649e",
   "metadata": {},
   "source": [
    "##### Sob quais condições nós devemos considerar imóveis usados como sendo estoque em nossas análises?"
   ]
  },
  {
   "cell_type": "markdown",
   "id": "1224d1ec",
   "metadata": {},
   "source": [
    "É importante identificar quando vale mais a pena para o investidor comprar um imóvel usado para aluguel do que investir em lançamentos imobiliários."
   ]
  },
  {
   "cell_type": "markdown",
   "id": "2b7d1c3e",
   "metadata": {},
   "source": [
    "## Velocidade de vendas e análise da concorrência"
   ]
  },
  {
   "cell_type": "markdown",
   "id": "481e7545",
   "metadata": {},
   "source": [
    "A velocidade de vendas é um fator importantíssimo na análise de viabilidade dos empreendimentos imobiliários. Ninguém quer lançar o que não vai vender."
   ]
  },
  {
   "cell_type": "markdown",
   "id": "050a09f6",
   "metadata": {},
   "source": [
    "#### Quantas unidades projetamos vender em cada etapa (lançamento, construção, entrega)?"
   ]
  },
  {
   "cell_type": "markdown",
   "id": "e286ef79",
   "metadata": {},
   "source": [
    "Nem sempre o produto que vendeu bem vai continuar vendendo. É muito importante aprender com nossos erros e acertos, e muito lucrativo quando aprendemos com os erros e acertos da concorrência. Por isso é muito importante entendemos quais são as demandas atuais do mercado. "
   ]
  },
  {
   "cell_type": "markdown",
   "id": "a74512a7",
   "metadata": {},
   "source": [
    "Há muitas ferramentas que podemos utilizar para entender melhor os desejos do mercado consumidor. Uma etapa fundamental é o \"pós-venda\". Por que conseguimos vender? Também é muito importante entender quando não conseguimos vender."
   ]
  },
  {
   "cell_type": "markdown",
   "id": "cefceeae",
   "metadata": {},
   "source": [
    "#### Quem queria já comprou. E agora? Como identificar se ainda há demanda no mercado para um determinado produto?"
   ]
  },
  {
   "cell_type": "markdown",
   "id": "bc7723ef",
   "metadata": {},
   "source": [
    "Muitas vezes, os dados já estão dentro da própria empresa — o que falta é transformá-los em informação útil. Por exemplo, podemos analisar históricos de atendimento para entender qual corretor ou imobiliária se comunica melhor com cada perfil de cliente. Da mesma forma, registros de visitas aos stands de vendas podem revelar o que mais atrai os clientes e quais são suas principais dores. Esses dados ajudam a ajustar as abordagens e melhorar os resultados."
   ]
  },
  {
   "cell_type": "markdown",
   "id": "9b1ce440",
   "metadata": {},
   "source": [
    "Claro, tudo isso só é possível com uma postura verdadeiramente orientada por dados por parte da empresa."
   ]
  },
  {
   "cell_type": "markdown",
   "id": "4afac6f7",
   "metadata": {},
   "source": [
    "## Acesso ao crédito imobiliário e análise de sensibilidade das hipóteses"
   ]
  },
  {
   "cell_type": "markdown",
   "id": "d2849a4e",
   "metadata": {},
   "source": [
    "É fundamental entender a disponibilidade de crédito para melhor posicionar o nosso produto no mercado."
   ]
  },
  {
   "cell_type": "markdown",
   "id": "8cb97ad1",
   "metadata": {},
   "source": [
    "#### Quem é o meu público-alvo tem condições de comprar o que estou oferecendo?"
   ]
  },
  {
   "cell_type": "markdown",
   "id": "5f5e8a5b",
   "metadata": {},
   "source": [
    "Analisar dados não é prever o futuro — é compreender o contexto e explorar possíveis caminhos. É essencial saber como nossos modelos respondem a pequenas mudanças nas hipóteses."
   ]
  },
  {
   "cell_type": "markdown",
   "id": "d83578ff",
   "metadata": {},
   "source": [
    "#### Se o cenário econômico mudar, mesmo que levemente, como nosso produto se ajustará no mercado?"
   ]
  },
  {
   "cell_type": "markdown",
   "id": "5e2e6791",
   "metadata": {},
   "source": [
    "Diversos fatores podem influenciar o posicionamento do nosso produto no mercado — e é tanto necessário quanto possível identificá-los e analisá-los."
   ]
  },
  {
   "cell_type": "markdown",
   "id": "ec9a527a",
   "metadata": {},
   "source": [
    "## Conclusão"
   ]
  },
  {
   "cell_type": "markdown",
   "id": "732f80eb",
   "metadata": {},
   "source": [
    "O que apresentamos acima representa mais uma proposta de postura a ser adotada pela empresa do que um detalhamento completo de um projeto de inteligência de mercado. Trata-se de um processo contínuo, que começa de forma simples e evolui com o tempo. O que foi mostrado são possibilidades, caminhos que podem ser seguidos conforme os objetivos e a maturidade da empresa. É fundamental que todos os setores participem da construção dessa inteligência, contribuindo com informações e experiências para que o sistema se torne cada vez mais eficiente e estratégico."
   ]
  }
 ],
 "metadata": {
  "kernelspec": {
   "display_name": "Python 3 (ipykernel)",
   "language": "python",
   "name": "python3"
  },
  "language_info": {
   "codemirror_mode": {
    "name": "ipython",
    "version": 3
   },
   "file_extension": ".py",
   "mimetype": "text/x-python",
   "name": "python",
   "nbconvert_exporter": "python",
   "pygments_lexer": "ipython3",
   "version": "3.12.3"
  }
 },
 "nbformat": 4,
 "nbformat_minor": 5
}
